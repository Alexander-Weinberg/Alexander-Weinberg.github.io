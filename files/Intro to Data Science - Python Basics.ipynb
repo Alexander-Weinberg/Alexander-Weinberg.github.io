{
 "cells": [
  {
   "cell_type": "markdown",
   "id": "indonesian-ordinance",
   "metadata": {},
   "source": [
    "# Python Basics\n",
    "\n",
    "### Alexander Weinberg, 2021\n"
   ]
  },
  {
   "cell_type": "markdown",
   "id": "civil-nylon",
   "metadata": {},
   "source": [
    "This Jupyter Notebook accompanies the Data Science lectures for the 2021 UChicago Pathways in Economics program for high school students. In this introductory notebook, students will cover basic topics in Python. This notebook is aimed at students with zero programming background. \n",
    "\n",
    "The topics include:\n",
    "\n",
    "- Variable assignment\n",
    "- Commenting\n",
    "- Importing packages\n",
    "- Calculator functions\n",
    "- Boolean variables\n",
    "- Functions\n",
    "\n",
    "This lecture is designed to be worked through at your own pace. Your TA will be able to assist you with any difficulties you may encounter. \n",
    "\n",
    "**A quick note on the exercises:** The best way to learn Python is by doing. After each topic, I have included short exercises as a helpful tool for learning. They are not supposed to be difficult and usually are fairly similar to the sample code I've written in this notebook. When you get to each exercise click the `plus` sign in the tool bar to create a new cell. Try and solve the exercises right there. There are often many ways to solve a problem and I've included sample solutions at the end of the notebook to compare.\n",
    "\n",
    "These lectures are inspired by the Quantecon Datascience notebooks. https://datascience.quantecon.org/"
   ]
  },
  {
   "cell_type": "markdown",
   "id": "standard-fleet",
   "metadata": {},
   "source": [
    "## 1. Variable Assignment\n",
    "\n",
    "Variable assignment associates a value to a variable. We can associate many different kinds of of values. \n",
    "\n",
    "**Click run or type `shift` + `Enter` to execute the cell**"
   ]
  },
  {
   "cell_type": "code",
   "execution_count": 4,
   "id": "convenient-arthur",
   "metadata": {},
   "outputs": [],
   "source": [
    "# assign the value `5` to the variable `x`\n",
    "x = 5"
   ]
  },
  {
   "cell_type": "code",
   "execution_count": 5,
   "id": "intimate-passing",
   "metadata": {},
   "outputs": [
    {
     "name": "stdout",
     "output_type": "stream",
     "text": [
      "5\n"
     ]
    }
   ],
   "source": [
    "# print out the value associated with `x`\n",
    "print(x)"
   ]
  },
  {
   "cell_type": "markdown",
   "id": "willing-teaching",
   "metadata": {},
   "source": [
    "We can also assign words to variables."
   ]
  },
  {
   "cell_type": "code",
   "execution_count": 46,
   "id": "banned-fields",
   "metadata": {},
   "outputs": [],
   "source": [
    "myname = \"Alex\""
   ]
  },
  {
   "cell_type": "code",
   "execution_count": 47,
   "id": "quantitative-perception",
   "metadata": {},
   "outputs": [
    {
     "name": "stdout",
     "output_type": "stream",
     "text": [
      "Alex\n"
     ]
    }
   ],
   "source": [
    "print(myname)"
   ]
  },
  {
   "cell_type": "markdown",
   "id": "refined-surprise",
   "metadata": {},
   "source": [
    "We can write over the variable to assign a new value. "
   ]
  },
  {
   "cell_type": "code",
   "execution_count": 48,
   "id": "inside-program",
   "metadata": {},
   "outputs": [
    {
     "name": "stdout",
     "output_type": "stream",
     "text": [
      "Alex\n"
     ]
    }
   ],
   "source": [
    "print(myname)"
   ]
  },
  {
   "cell_type": "code",
   "execution_count": 49,
   "id": "hindu-manchester",
   "metadata": {},
   "outputs": [],
   "source": [
    "myname = \"Lebron James\""
   ]
  },
  {
   "cell_type": "code",
   "execution_count": 50,
   "id": "facial-championship",
   "metadata": {},
   "outputs": [
    {
     "name": "stdout",
     "output_type": "stream",
     "text": [
      "Lebron James\n"
     ]
    }
   ],
   "source": [
    "# Run again to see that value has changed\n",
    "print(myname)"
   ]
  },
  {
   "cell_type": "markdown",
   "id": "alone-fitness",
   "metadata": {},
   "source": [
    "### Comments\n",
    "\n",
    "Code comments are short notes that you leave for future readers of your code (usually yourself). \n",
    "\n",
    "Comments explain what the code does.\n",
    "\n",
    "Be kind to your future self; leave lots of comments."
   ]
  },
  {
   "cell_type": "code",
   "execution_count": 51,
   "id": "operating-software",
   "metadata": {},
   "outputs": [
    {
     "name": "stdout",
     "output_type": "stream",
     "text": [
      "Lebron James\n"
     ]
    }
   ],
   "source": [
    "firstname = \"Lebron\"     # Assign the variable firstname\n",
    "lastname  = \"James\"      # Assign the variable lastname\n",
    "\n",
    "# Combine the firstname, a space, and lastname \n",
    "name = firstname + \" \" + lastname\n",
    "\n",
    "# Print out the full name\n",
    "print(name)"
   ]
  },
  {
   "cell_type": "markdown",
   "id": "sunset-allah",
   "metadata": {},
   "source": [
    "### Exercise 1\n",
    "---\n",
    "\n",
    "Here is an exercise to practice the material we've just learned.\n",
    "\n",
    "I've included **example solutions** at the *end of the notebook*.\n",
    "\n",
    "1. Assign your first name to the variable `firstname`.\n",
    "2. Assign your last name to the variable `lastname`.\n",
    "3. Combine your first name, last name, and a space into on variable `name`.\n",
    "4. Use the function `len` to find out the number of letters in the variable `name`.\n",
    "    - The way you use `len` is similar to the way we used `print`.\n",
    "5. Assign the result of part (4) to a variable named `num_letters`."
   ]
  },
  {
   "cell_type": "markdown",
   "id": "happy-playing",
   "metadata": {},
   "source": [
    "## 2. Packages\n",
    "\n",
    "Packages are collections of tools bundled together. Some of these libraries are massive projects maintained by many developers online.\n",
    "\n",
    "- `numpy` is a package with many tools for math (esp. linear algebra). \n",
    "\n",
    "- `pandas` is a package for data manipulation and analysis.\n",
    "\n",
    "- `matplotlib` is a library for making plots and data visualization.\n",
    "---\n",
    "\n",
    "Load packages using the function `import`.\n"
   ]
  },
  {
   "cell_type": "code",
   "execution_count": 1,
   "id": "downtown-subject",
   "metadata": {},
   "outputs": [],
   "source": [
    "# We are importing `numpy` with the nickname `np` for later convinience.\n",
    "import numpy as np "
   ]
  },
  {
   "cell_type": "markdown",
   "id": "verbal-ground",
   "metadata": {},
   "source": [
    "Access functions and objects from the package using the following syntax. \n",
    "\n",
    "`package.function`"
   ]
  },
  {
   "cell_type": "code",
   "execution_count": 5,
   "id": "colonial-toner",
   "metadata": {},
   "outputs": [
    {
     "name": "stdout",
     "output_type": "stream",
     "text": [
      "2.0\n"
     ]
    }
   ],
   "source": [
    "# We are going to access the function `mean` from the package `numpy`.\n",
    "\n",
    "list_of_numbers = [1, 2, 3]      # create a list of numbers\n",
    "\n",
    "avg = np.mean(list_of_numbers)   # compute the mean\n",
    "\n",
    "print(avg)                       # print out the answer"
   ]
  },
  {
   "cell_type": "markdown",
   "id": "living-animal",
   "metadata": {},
   "source": [
    "### Exercise 2\n",
    "---\n",
    "#### Part A\n",
    "1. Load the package `time` with the nickname `tt`\n",
    "2. Use the function `localtime()` from the `time` package to see what the time is where you are right now.\n",
    "    \n",
    "            **Warning** Don't forget the parenthesis after the function name.\n",
    "\n",
    "3. Output should look like below.\n",
    "\n",
    ">time.struct_time(tm_year=2021, tm_mon=2, tm_mday=5, tm_hour=19,  tm_min=41, tm_sec=59, tm_wday=4, tm_yday=36, tm_isdst=0)\n",
    "\n",
    "---\n",
    "#### Part B \n",
    "\n",
    "Before we used the function `np.mean()` to compute the average of a list of numbers. Now we will use the function `np.sum()` in order to compute the sum.\n",
    "\n",
    "1. Create a new list of numbers using the numbers 5, 10, and 15.\n",
    "2. Use the function `np.sum()` to compute the sum."
   ]
  },
  {
   "cell_type": "markdown",
   "id": "naughty-clinic",
   "metadata": {},
   "source": [
    "## 3. Python can function as a calculator"
   ]
  },
  {
   "cell_type": "code",
   "execution_count": 22,
   "id": "persistent-railway",
   "metadata": {},
   "outputs": [
    {
     "name": "stdout",
     "output_type": "stream",
     "text": [
      "10\n",
      "2\n"
     ]
    }
   ],
   "source": [
    "# Assign variables\n",
    "a = 10\n",
    "b = 2\n",
    "\n",
    "print(a)\n",
    "print(b)"
   ]
  },
  {
   "cell_type": "code",
   "execution_count": 23,
   "id": "hidden-photography",
   "metadata": {},
   "outputs": [
    {
     "data": {
      "text/plain": [
       "12"
      ]
     },
     "execution_count": 23,
     "metadata": {},
     "output_type": "execute_result"
    }
   ],
   "source": [
    "# Lets do some addition\n",
    "a + b"
   ]
  },
  {
   "cell_type": "code",
   "execution_count": 52,
   "id": "active-reynolds",
   "metadata": {},
   "outputs": [
    {
     "data": {
      "text/plain": [
       "8"
      ]
     },
     "execution_count": 52,
     "metadata": {},
     "output_type": "execute_result"
    }
   ],
   "source": [
    "# Now some subtraction\n",
    "a - b"
   ]
  },
  {
   "cell_type": "code",
   "execution_count": 53,
   "id": "indirect-ancient",
   "metadata": {},
   "outputs": [
    {
     "name": "stdout",
     "output_type": "stream",
     "text": [
      "a + b is 12\n",
      "a - b is 8\n",
      "a * b is 20\n",
      "a / b is 5.0\n",
      "a ** b is 100\n",
      "\n",
      "Python follows PEMDAS.\n",
      "\n",
      "out1 =  120\n",
      "out2 =  30\n"
     ]
    }
   ],
   "source": [
    "# Python can do many kinds of arithmetic\n",
    "print(\"a + b is\", a + b) # addition\n",
    "print(\"a - b is\", a - b) # subtraction\n",
    "print(\"a * b is\", a * b) # multiplication\n",
    "print(\"a / b is\", a / b) # division\n",
    "print(\"a ** b is\", a**b) # exponent\n",
    "\n",
    "print(\"\\nPython follows PEMDAS.\\n\")\n",
    "\n",
    "out1 = (a + b) * a\n",
    "out2 = a + (b * a)\n",
    "\n",
    "print(\"out1 = \", out1)\n",
    "print(\"out2 = \", out2)"
   ]
  },
  {
   "cell_type": "markdown",
   "id": "decent-federal",
   "metadata": {},
   "source": [
    "## 4. Functions\n",
    "\n",
    "Functions take inputs and return outputs. We've already worked with a few functions so far. \n",
    "\n",
    "- `print()`\n",
    "- `np.mean()`\n",
    "- `+`\n",
    "- `-`\n",
    "- `len()`\n",
    "\n",
    "We can write our own functions. \n",
    "\n",
    "Every function starts with `def` and ends with `return`."
   ]
  },
  {
   "cell_type": "code",
   "execution_count": 25,
   "id": "double-referral",
   "metadata": {},
   "outputs": [],
   "source": [
    "def add2(input_number):\n",
    "    '''This is a simple function that adds 2 to any input.'''\n",
    "    result = input_number + 2\n",
    "    return result"
   ]
  },
  {
   "cell_type": "code",
   "execution_count": 27,
   "id": "undefined-great",
   "metadata": {},
   "outputs": [
    {
     "name": "stdout",
     "output_type": "stream",
     "text": [
      "23\n"
     ]
    }
   ],
   "source": [
    "ans = add2(21)\n",
    "print(ans)"
   ]
  },
  {
   "cell_type": "markdown",
   "id": "perfect-dispatch",
   "metadata": {},
   "source": [
    "## Exercise 4\n",
    "\n",
    "1. Write a new function called `minus6`. \n",
    "2. Similar to the function we wrote above it takes x as an input and returns x-6"
   ]
  },
  {
   "cell_type": "markdown",
   "id": "desirable-enough",
   "metadata": {},
   "source": [
    "## 5. Lists\n",
    "Lists are a collections of items. \n",
    "\n",
    "Each item can be of any type. \n",
    "\n",
    "We have already worked with a list of numbers previously."
   ]
  },
  {
   "cell_type": "code",
   "execution_count": 54,
   "id": "second-modem",
   "metadata": {},
   "outputs": [],
   "source": [
    "mylist = [5, \"Alex\", 6.3]"
   ]
  },
  {
   "cell_type": "code",
   "execution_count": 55,
   "id": "informational-chocolate",
   "metadata": {},
   "outputs": [
    {
     "name": "stdout",
     "output_type": "stream",
     "text": [
      "[5, 'Alex', 6.3]\n"
     ]
    }
   ],
   "source": [
    "print(mylist)"
   ]
  },
  {
   "cell_type": "markdown",
   "id": "removable-gross",
   "metadata": {},
   "source": [
    "Access items in a list using brackets.\n",
    "\n",
    "This is called indexing.\n",
    "\n",
    "- Python starts counting at zero."
   ]
  },
  {
   "cell_type": "code",
   "execution_count": 34,
   "id": "agricultural-contamination",
   "metadata": {},
   "outputs": [
    {
     "data": {
      "text/plain": [
       "5"
      ]
     },
     "execution_count": 34,
     "metadata": {},
     "output_type": "execute_result"
    }
   ],
   "source": [
    "mylist[0] # first element"
   ]
  },
  {
   "cell_type": "code",
   "execution_count": 57,
   "id": "located-lotus",
   "metadata": {},
   "outputs": [
    {
     "name": "stdout",
     "output_type": "stream",
     "text": [
      "Alex\n"
     ]
    }
   ],
   "source": [
    "print(mylist[1]) # second element"
   ]
  },
  {
   "cell_type": "code",
   "execution_count": 58,
   "id": "available-preview",
   "metadata": {},
   "outputs": [
    {
     "name": "stdout",
     "output_type": "stream",
     "text": [
      "6.3\n"
     ]
    }
   ],
   "source": [
    "print(mylist[2]) # third element"
   ]
  },
  {
   "cell_type": "markdown",
   "id": "attended-alias",
   "metadata": {},
   "source": [
    "Use the function `len()` to compute the number of elements there are in a list."
   ]
  },
  {
   "cell_type": "code",
   "execution_count": 37,
   "id": "japanese-papua",
   "metadata": {},
   "outputs": [
    {
     "name": "stdout",
     "output_type": "stream",
     "text": [
      "3\n"
     ]
    }
   ],
   "source": [
    "num_elements = len(mylist)\n",
    "print(num_elements)"
   ]
  },
  {
   "cell_type": "markdown",
   "id": "infrared-reproduction",
   "metadata": {},
   "source": [
    "### Exercise 5\n",
    "---\n",
    "\n",
    "We are going to double check that the `np.mean()` function is working correctly.\n",
    "\n",
    "1. Make a list, named `list1`, with the numbers 1, 4, 7, 10, and 200.\n",
    "2. Use `np.sum()` to compute the sum of `list1`, name that `listsum1`.\n",
    "3. Get the number of elements in `list1`, name that `numelements1`.\n",
    "4. Compute the average of `list1` as follows: (Recall: / means divide in python.)\n",
    "\n",
    "$$\n",
    "mymean1 = \\frac{listsum1}{numelements1}\n",
    "$$\n",
    "\n",
    "5. Use the `np.mean()` function to compute the mean of `list1`. Call that `numpy_mean`.\n",
    "6. Check the answers are identical."
   ]
  },
  {
   "cell_type": "markdown",
   "id": "further-allen",
   "metadata": {},
   "source": [
    "## 6. For Loops\n",
    "\n",
    "For loops will loop over a list and do an operation for each element. "
   ]
  },
  {
   "cell_type": "markdown",
   "id": "theoretical-graph",
   "metadata": {},
   "source": [
    "Lets make a list named `basket`."
   ]
  },
  {
   "cell_type": "code",
   "execution_count": 40,
   "id": "western-peripheral",
   "metadata": {},
   "outputs": [
    {
     "name": "stdout",
     "output_type": "stream",
     "text": [
      "['apple', 'banana', 'grapes']\n"
     ]
    }
   ],
   "source": [
    "basket = ['apple', 'banana', 'grapes']\n",
    "print(basket)"
   ]
  },
  {
   "cell_type": "code",
   "execution_count": 41,
   "id": "annual-degree",
   "metadata": {},
   "outputs": [
    {
     "name": "stdout",
     "output_type": "stream",
     "text": [
      "Eat  apple\n",
      "Eat  banana\n",
      "Eat  grapes\n"
     ]
    }
   ],
   "source": [
    "# For each element in our basket\n",
    "# we're going to print out the phrase \"Eat ____\"\n",
    "# We will remove the fruit from our basket\n",
    "\n",
    "for item in basket:\n",
    "    print('Eat ', item)"
   ]
  },
  {
   "cell_type": "markdown",
   "id": "working-instruction",
   "metadata": {},
   "source": [
    "For loops are also helpful for working with a list of numbers."
   ]
  },
  {
   "cell_type": "code",
   "execution_count": 59,
   "id": "standing-diana",
   "metadata": {},
   "outputs": [
    {
     "name": "stdout",
     "output_type": "stream",
     "text": [
      "The squared number =  1\n",
      "The squared number =  4\n",
      "The squared number =  9\n",
      "The squared number =  16\n",
      "The squared number =  25\n"
     ]
    }
   ],
   "source": [
    "for ii in [1,2,3,4,5]:\n",
    "    isquared = ii ** 2    \n",
    "    print('The squared number = ', isquared)"
   ]
  },
  {
   "cell_type": "markdown",
   "id": "outer-gauge",
   "metadata": {},
   "source": [
    "### Quiz 6\n",
    "---\n",
    "\n",
    "We are going to double check the function `np.sum()` works correctly.\n",
    "\n",
    "1. Create a variable named tally = 0.\n",
    "2. Create `list2` $=[1000,2000,3000]$.\n",
    "3. Use a for loop to compute the sum of `list2`.\n",
    "    - Hint: Use the for loop to add each element to the tally.\n",
    "4. Compare to `np.sum()`."
   ]
  },
  {
   "cell_type": "markdown",
   "id": "individual-pharmacy",
   "metadata": {},
   "source": [
    "## 7. Booleans\n",
    "\n",
    "There are different kinds of variables. So far we've worked with\n",
    "\n",
    "- **strings** (words)\n",
    "- **floats** (numbers with decimals)\n",
    "- **integers** (numbers without decimals)\n",
    "\n",
    "\n",
    "Now we're going to work with Boolean variables. \n",
    "\n",
    "A boolean variable is either true or false. "
   ]
  },
  {
   "cell_type": "code",
   "execution_count": 28,
   "id": "combined-reception",
   "metadata": {},
   "outputs": [
    {
     "name": "stdout",
     "output_type": "stream",
     "text": [
      "True\n",
      "<class 'bool'>\n"
     ]
    }
   ],
   "source": [
    "x = True\n",
    "y = False\n",
    "\n",
    "print(x)\n",
    "print(type(x))"
   ]
  },
  {
   "cell_type": "code",
   "execution_count": 29,
   "id": "southwest-probe",
   "metadata": {},
   "outputs": [
    {
     "name": "stdout",
     "output_type": "stream",
     "text": [
      "False\n"
     ]
    }
   ],
   "source": [
    "a = 10\n",
    "b = 16\n",
    "\n",
    "print(a > b)"
   ]
  },
  {
   "cell_type": "code",
   "execution_count": 30,
   "id": "secure-forest",
   "metadata": {},
   "outputs": [
    {
     "name": "stdout",
     "output_type": "stream",
     "text": [
      "True\n"
     ]
    }
   ],
   "source": [
    "print(a < b)"
   ]
  },
  {
   "cell_type": "code",
   "execution_count": 31,
   "id": "eligible-minority",
   "metadata": {},
   "outputs": [
    {
     "name": "stdout",
     "output_type": "stream",
     "text": [
      "a =  10\n",
      "b =  16\n",
      "a > b is False\n",
      "a < b is True\n",
      "a == b is False\n",
      "a >= b is False\n",
      "a <= b is True\n"
     ]
    }
   ],
   "source": [
    "print(\"a = \", a)\n",
    "print(\"b = \", b)\n",
    "print(\"a > b\", \"is\", a > b)   # greater than\n",
    "print(\"a < b\", \"is\", a < b)   # less than \n",
    "print(\"a == b\", \"is\", a == b) # check for equality\n",
    "print(\"a >= b\", \"is\", a >= b) # greater than or equal to\n",
    "print(\"a <= b\", \"is\", a <= b) # less than or equal to"
   ]
  },
  {
   "cell_type": "markdown",
   "id": "opposed-scheme",
   "metadata": {},
   "source": [
    "Booleans variables are the output of **variable comparison**."
   ]
  },
  {
   "cell_type": "markdown",
   "id": "little-boundary",
   "metadata": {},
   "source": [
    "**Multiple comparisons** are handy."
   ]
  },
  {
   "cell_type": "code",
   "execution_count": 57,
   "id": "macro-slide",
   "metadata": {},
   "outputs": [
    {
     "data": {
      "text/plain": [
       "True"
      ]
     },
     "execution_count": 57,
     "metadata": {},
     "output_type": "execute_result"
    }
   ],
   "source": [
    "a = 4\n",
    "b = 5\n",
    "\n",
    "(a < b ) and (a < 2*b) # true if both are true, and false if at least one is false"
   ]
  },
  {
   "cell_type": "markdown",
   "id": "growing-manor",
   "metadata": {},
   "source": [
    "# Solutions\n",
    "\n",
    "Congrats! You've completed this intro notebook."
   ]
  },
  {
   "cell_type": "markdown",
   "id": "ultimate-pipeline",
   "metadata": {},
   "source": [
    "### Example Answers 1"
   ]
  },
  {
   "cell_type": "code",
   "execution_count": 14,
   "id": "earlier-child",
   "metadata": {},
   "outputs": [
    {
     "name": "stdout",
     "output_type": "stream",
     "text": [
      "12\n"
     ]
    }
   ],
   "source": [
    "num_letter = len(myname)\n",
    "print(num_letter)"
   ]
  },
  {
   "cell_type": "markdown",
   "id": "criminal-denial",
   "metadata": {},
   "source": [
    "### Example Answers 2"
   ]
  },
  {
   "cell_type": "code",
   "execution_count": 28,
   "id": "sudden-rebel",
   "metadata": {},
   "outputs": [
    {
     "name": "stdout",
     "output_type": "stream",
     "text": [
      "time.struct_time(tm_year=2021, tm_mon=6, tm_mday=24, tm_hour=10, tm_min=23, tm_sec=25, tm_wday=3, tm_yday=175, tm_isdst=1)\n"
     ]
    }
   ],
   "source": [
    "# Part A\n",
    "import time as tt\n",
    "\n",
    "time_right_now = tt.localtime()\n",
    "print(time_right_now)"
   ]
  },
  {
   "cell_type": "code",
   "execution_count": 29,
   "id": "absent-suspect",
   "metadata": {},
   "outputs": [
    {
     "name": "stdout",
     "output_type": "stream",
     "text": [
      "Sum of these numbers is = \n"
     ]
    },
    {
     "data": {
      "text/plain": [
       "30"
      ]
     },
     "execution_count": 29,
     "metadata": {},
     "output_type": "execute_result"
    }
   ],
   "source": [
    "# Part B\n",
    "\n",
    "new_list_of_numbers = [5,10,15]\n",
    "\n",
    "print(\"Sum of these numbers is = \")\n",
    "\n",
    "np.sum(new_list_of_numbers)"
   ]
  },
  {
   "cell_type": "markdown",
   "id": "modern-equity",
   "metadata": {},
   "source": [
    "### Example Answers 4"
   ]
  },
  {
   "cell_type": "code",
   "execution_count": 30,
   "id": "considered-nickel",
   "metadata": {},
   "outputs": [],
   "source": [
    "def minus6(x):\n",
    "    '''This is a simple function subtracts 6 from x.'''\n",
    "    result = x - 6\n",
    "    return result"
   ]
  },
  {
   "cell_type": "code",
   "execution_count": 31,
   "id": "cellular-deputy",
   "metadata": {},
   "outputs": [
    {
     "name": "stdout",
     "output_type": "stream",
     "text": [
      "15\n"
     ]
    }
   ],
   "source": [
    "ans = minus6(21)\n",
    "print(ans)"
   ]
  },
  {
   "cell_type": "markdown",
   "id": "cloudy-consideration",
   "metadata": {},
   "source": [
    "### Example answers 5"
   ]
  },
  {
   "cell_type": "code",
   "execution_count": 38,
   "id": "turkish-density",
   "metadata": {},
   "outputs": [
    {
     "name": "stdout",
     "output_type": "stream",
     "text": [
      "My mean =  44.4\n",
      "Numpy mean =  44.4\n"
     ]
    }
   ],
   "source": [
    "# 1. Make a list\n",
    "list1 = [1, 4, 7, 10, 200]\n",
    "\n",
    "#2. Compute the sum of the list\n",
    "listsum1 = np.sum(list1)\n",
    "\n",
    "# 3. Get the number of elements in list1\n",
    "numelements1 = len(list1)\n",
    "\n",
    "# 4. Compute average manually\n",
    "mymean1 = listsum1 / numelements1\n",
    "\n",
    "# 5. Numpy average\n",
    "numpy_mean = np.mean(list1)\n",
    "\n",
    "# 6. Compare\n",
    "print(\"My mean = \", mymean1)\n",
    "print(\"Numpy mean = \", numpy_mean)"
   ]
  },
  {
   "cell_type": "markdown",
   "id": "hybrid-discussion",
   "metadata": {},
   "source": [
    "### Example answers 6"
   ]
  },
  {
   "cell_type": "code",
   "execution_count": 45,
   "id": "removable-detection",
   "metadata": {},
   "outputs": [
    {
     "name": "stdout",
     "output_type": "stream",
     "text": [
      "Numpy sum =  6000\n"
     ]
    }
   ],
   "source": [
    "list2 = [1000, 2000, 3000]\n",
    "\n",
    "numpy_sum = np.sum(list2)\n",
    "print('Numpy sum = ', numpy_sum)"
   ]
  },
  {
   "cell_type": "code",
   "execution_count": 44,
   "id": "statutory-sunglasses",
   "metadata": {},
   "outputs": [
    {
     "name": "stdout",
     "output_type": "stream",
     "text": [
      "My sum =  6000\n"
     ]
    }
   ],
   "source": [
    "tally = 0\n",
    "\n",
    "for num in list2:\n",
    "    # Add current num to the tally\n",
    "    tally = tally + num\n",
    "    \n",
    "print('My sum = ', tally)"
   ]
  }
 ],
 "metadata": {
  "kernelspec": {
   "display_name": "Python 3",
   "language": "python",
   "name": "python3"
  },
  "language_info": {
   "codemirror_mode": {
    "name": "ipython",
    "version": 3
   },
   "file_extension": ".py",
   "mimetype": "text/x-python",
   "name": "python",
   "nbconvert_exporter": "python",
   "pygments_lexer": "ipython3",
   "version": "3.8.2"
  }
 },
 "nbformat": 4,
 "nbformat_minor": 5
}
