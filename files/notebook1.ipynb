{
 "cells": [
  {
   "cell_type": "markdown",
   "id": "civil-nylon",
   "metadata": {},
   "source": [
    "# Intro to Data Science - Python Basics\n",
    "\n",
    "This Jupyter Notebook accompanies the Data Science lectures for the UChicago Pathways in Economics program for high school students. In this notebook we will cover the basics of programming in Python.\n",
    "The topics include:\n",
    "\n",
    "- Variable assignment\n",
    "- Commenting\n",
    "- Importing packages, Numpy\n",
    "- Calculator functions\n",
    "- Booleans\n",
    "- Functions\n",
    "- Pandas, Matplotlib\n",
    "\n",
    "These lectures are inspired by the Quantecon Datascience notebooks. https://datascience.quantecon.org/"
   ]
  },
  {
   "cell_type": "code",
   "execution_count": 2,
   "id": "exotic-flooring",
   "metadata": {},
   "outputs": [],
   "source": [
    "x = 5"
   ]
  },
  {
   "cell_type": "markdown",
   "id": "standard-fleet",
   "metadata": {},
   "source": [
    "## 1. Variable Assignment\n",
    "\n",
    "Variable assignment associates a value to a variable. We can associate many different kinds of of values. \n",
    "\n",
    "Assign your names to the variable `myname`. "
   ]
  },
  {
   "cell_type": "code",
   "execution_count": 3,
   "id": "protecting-planner",
   "metadata": {},
   "outputs": [
    {
     "name": "stdout",
     "output_type": "stream",
     "text": [
      "5\n"
     ]
    }
   ],
   "source": [
    "print(x)"
   ]
  },
  {
   "cell_type": "code",
   "execution_count": 4,
   "id": "convenient-arthur",
   "metadata": {},
   "outputs": [],
   "source": [
    "# assign the value `5` to the variable `x`\n",
    "x = 5"
   ]
  },
  {
   "cell_type": "code",
   "execution_count": 5,
   "id": "intimate-passing",
   "metadata": {},
   "outputs": [
    {
     "name": "stdout",
     "output_type": "stream",
     "text": [
      "5\n"
     ]
    }
   ],
   "source": [
    "# print out the value associated with `x`\n",
    "print(x)"
   ]
  },
  {
   "cell_type": "code",
   "execution_count": 6,
   "id": "banned-fields",
   "metadata": {},
   "outputs": [],
   "source": [
    "myname = \"Alex\""
   ]
  },
  {
   "cell_type": "code",
   "execution_count": 7,
   "id": "quantitative-perception",
   "metadata": {},
   "outputs": [
    {
     "name": "stdout",
     "output_type": "stream",
     "text": [
      "Alex\n"
     ]
    }
   ],
   "source": [
    "print(myname)"
   ]
  },
  {
   "cell_type": "code",
   "execution_count": 8,
   "id": "considered-foundation",
   "metadata": {},
   "outputs": [
    {
     "data": {
      "text/plain": [
       "'Alex'"
      ]
     },
     "execution_count": 8,
     "metadata": {},
     "output_type": "execute_result"
    }
   ],
   "source": [
    "myname # write the variable name here to output the value"
   ]
  },
  {
   "cell_type": "markdown",
   "id": "refined-surprise",
   "metadata": {},
   "source": [
    "We can write over the variable to assign a new value. "
   ]
  },
  {
   "cell_type": "code",
   "execution_count": 9,
   "id": "hindu-manchester",
   "metadata": {},
   "outputs": [],
   "source": [
    "myname = \"Lebron James\""
   ]
  },
  {
   "cell_type": "code",
   "execution_count": 10,
   "id": "facial-championship",
   "metadata": {},
   "outputs": [
    {
     "name": "stdout",
     "output_type": "stream",
     "text": [
      "Lebron James\n"
     ]
    }
   ],
   "source": [
    "# Run again to see that value has changed\n",
    "print(myname)"
   ]
  },
  {
   "cell_type": "markdown",
   "id": "alone-fitness",
   "metadata": {},
   "source": [
    "### Comments\n",
    "\n",
    "Code comments are short notes that you leave for future readers of your code (usually yourself). \n",
    "\n",
    "Comments explain what the code does."
   ]
  },
  {
   "cell_type": "code",
   "execution_count": 11,
   "id": "operating-software",
   "metadata": {},
   "outputs": [
    {
     "name": "stdout",
     "output_type": "stream",
     "text": [
      "Lebron James\n"
     ]
    }
   ],
   "source": [
    "firstname = \"Lebron\"     # Assign the variable firstname\n",
    "lastname  = \"James\"      # Assign the variable lastname\n",
    "\n",
    "# Combine the firstname, a space, and lastname \n",
    "name = firstname + \" \" + lastname\n",
    "\n",
    "# Print out the full name\n",
    "print(name)"
   ]
  },
  {
   "cell_type": "markdown",
   "id": "sunset-allah",
   "metadata": {},
   "source": [
    "### Quiz 1\n",
    "---\n",
    "1. Assign your first name to the variable `firstname`.\n",
    "2. Assign your last name to the variable `lastname`.\n",
    "3. Combine your first name, last name, and a space into on variable `name`.\n",
    "4. Use the function `len` to find out the number of letters in the variable `name`.\n",
    "    - The way you use `len` is similar to the way we used `print`.\n",
    "5. Assign the result of part (4) to a variable named `num_letters`."
   ]
  },
  {
   "cell_type": "markdown",
   "id": "thousand-watson",
   "metadata": {},
   "source": [
    "### Example Answers 1"
   ]
  },
  {
   "cell_type": "code",
   "execution_count": 12,
   "id": "reduced-campus",
   "metadata": {},
   "outputs": [
    {
     "name": "stdout",
     "output_type": "stream",
     "text": [
      "12\n"
     ]
    }
   ],
   "source": [
    "num_letter = len(myname)\n",
    "print(num_letter)"
   ]
  },
  {
   "cell_type": "markdown",
   "id": "happy-playing",
   "metadata": {},
   "source": [
    "## 2. Packages\n",
    "\n",
    "Packages are collections of tools bundled together. Some of these libraries are massive projects maintained by many developers online.\n",
    "\n",
    "- `numpy` is a package with many tools for working with vectors and matrices. \n",
    "\n",
    "- `pandas` is a package for data manipulation and analysis.\n",
    "\n",
    "- `matplotlib` is a library for making plots and data visualization.\n",
    "---\n",
    "\n",
    "Load packages using the function `import`.\n"
   ]
  },
  {
   "cell_type": "code",
   "execution_count": 14,
   "id": "downtown-subject",
   "metadata": {},
   "outputs": [],
   "source": [
    "import numpy as np"
   ]
  },
  {
   "cell_type": "markdown",
   "id": "verbal-ground",
   "metadata": {},
   "source": [
    "Access functions and objects from the package using the following syntax. \n",
    "\n",
    "`package.function`"
   ]
  },
  {
   "cell_type": "code",
   "execution_count": 16,
   "id": "colonial-toner",
   "metadata": {},
   "outputs": [
    {
     "data": {
      "text/plain": [
       "4.584967478670572"
      ]
     },
     "execution_count": 16,
     "metadata": {},
     "output_type": "execute_result"
    }
   ],
   "source": [
    "np.log(98)        # Access the function log from the package numpy."
   ]
  },
  {
   "cell_type": "markdown",
   "id": "naughty-clinic",
   "metadata": {},
   "source": [
    "### Python can also function as a calculator"
   ]
  },
  {
   "cell_type": "code",
   "execution_count": 23,
   "id": "persistent-railway",
   "metadata": {},
   "outputs": [
    {
     "name": "stdout",
     "output_type": "stream",
     "text": [
      "4\n",
      "2\n"
     ]
    }
   ],
   "source": [
    "# Assign variables\n",
    "a = 4\n",
    "b = 2\n",
    "\n",
    "print(a)\n",
    "print(b)"
   ]
  },
  {
   "cell_type": "code",
   "execution_count": 18,
   "id": "indirect-ancient",
   "metadata": {},
   "outputs": [
    {
     "name": "stdout",
     "output_type": "stream",
     "text": [
      "a + b is 6\n",
      "a - b is 2\n",
      "a * b is 8\n",
      "a / b is 2.0\n",
      "a ** b is 16\n",
      "\n",
      "Python follows PEMDAS.\n",
      "\n",
      "out1 =  24\n",
      "out2 =  12\n"
     ]
    }
   ],
   "source": [
    "# Do arithmetic\n",
    "print(\"a + b is\", a + b) # addition\n",
    "print(\"a - b is\", a - b) # subtraction\n",
    "print(\"a * b is\", a * b) # multiplication\n",
    "print(\"a / b is\", a / b) # division\n",
    "print(\"a ** b is\", a**b) # exponent\n",
    "\n",
    "print(\"\\nPython follows PEMDAS.\\n\")\n",
    "\n",
    "out1 = (a + b) * a\n",
    "out2 = a + (b * a)\n",
    "\n",
    "print(\"out1 = \", out1)\n",
    "print(\"out2 = \", out2)"
   ]
  },
  {
   "cell_type": "code",
   "execution_count": null,
   "id": "cleared-bhutan",
   "metadata": {},
   "outputs": [],
   "source": []
  },
  {
   "cell_type": "markdown",
   "id": "dirty-barbados",
   "metadata": {},
   "source": [
    "### Quiz 2\n",
    "---\n",
    "#### Part A\n",
    "1. Load the package `time`.\n",
    "2. Use google to find the function from `time` that returns the local time.\n",
    "3. Call that function. Output should look like below.\n",
    "\n",
    ">time.struct_time(tm_year=2021, tm_mon=2, tm_mday=5, tm_hour=19,  tm_min=41, tm_sec=59, tm_wday=4, tm_yday=36, tm_isdst=0)\n",
    "\n",
    "---\n",
    "#### Part B (math)\n",
    "We're going to verify the \"trick\" that the percent difference $\\frac{x-y}{x}$ between two numbers close to 1 can be well approximated by the difference between the log of the two numbers $\\log(x) - \\log(y)$.\n",
    "\n",
    "Let, \n",
    "\n",
    "$$ x = 1.05 \\\\ y = 1.02\n",
    "$$\n",
    "\n",
    "4. Assign the above values to $x$ and $y$ respectively. \n",
    "5. Assign $z_1 = \\frac{x-y}{x}$.\n",
    "\n",
    "6. Google how to compute logarithms using `numpy`.\n",
    "7. Assign $z_2 = \\log(x) - \\log(y)$.\n",
    "8. Google how to compute absolute value using `numpy`.\n",
    "9. Compute $error=|z_1 - z_2|$\n",
    "10. Distance should be around $0.0004$. "
   ]
  },
  {
   "cell_type": "markdown",
   "id": "confidential-classics",
   "metadata": {},
   "source": [
    "### Example Answers 2"
   ]
  },
  {
   "cell_type": "code",
   "execution_count": 22,
   "id": "medieval-scale",
   "metadata": {},
   "outputs": [
    {
     "data": {
      "text/plain": [
       "time.struct_time(tm_year=2021, tm_mon=2, tm_mday=21, tm_hour=16, tm_min=34, tm_sec=8, tm_wday=6, tm_yday=52, tm_isdst=0)"
      ]
     },
     "execution_count": 22,
     "metadata": {},
     "output_type": "execute_result"
    }
   ],
   "source": [
    "# Part A\n",
    "import time\n",
    "\n",
    "print(time.localtime())"
   ]
  },
  {
   "cell_type": "code",
   "execution_count": 26,
   "id": "amber-convergence",
   "metadata": {},
   "outputs": [
    {
     "name": "stdout",
     "output_type": "stream",
     "text": [
      "0.0004161083018237241\n"
     ]
    }
   ],
   "source": [
    "# Part B\n",
    "x = 1.05\n",
    "y = 1.02 \n",
    "\n",
    "z1 = (1.05 - 1.02) / 1.05\n",
    "z2 = np.log(x) - np.log(y)\n",
    "\n",
    "error = np.abs(z1 - z2)\n",
    "print(error)"
   ]
  },
  {
   "cell_type": "markdown",
   "id": "eastern-lotus",
   "metadata": {},
   "source": [
    "## 3. Booleans\n",
    "\n",
    "There are different kinds of variables. So far we've worked with\n",
    "\n",
    "- **strings** (words)\n",
    "- **floats** (numbers with decimals)\n",
    "- **integers** (numbers without decimals)\n",
    "\n",
    "\n",
    "Now we're going to work with Boolean variables. \n",
    "\n",
    "A boolean variable is either true or false. "
   ]
  },
  {
   "cell_type": "code",
   "execution_count": 25,
   "id": "imperial-entity",
   "metadata": {},
   "outputs": [
    {
     "name": "stdout",
     "output_type": "stream",
     "text": [
      "True\n",
      "<class 'bool'>\n"
     ]
    }
   ],
   "source": [
    "x = True\n",
    "print(x)\n",
    "print(type(x))"
   ]
  },
  {
   "cell_type": "code",
   "execution_count": 27,
   "id": "right-battery",
   "metadata": {},
   "outputs": [
    {
     "name": "stdout",
     "output_type": "stream",
     "text": [
      "False\n"
     ]
    }
   ],
   "source": [
    "y = False\n",
    "print(y)"
   ]
  },
  {
   "cell_type": "code",
   "execution_count": 29,
   "id": "romantic-robin",
   "metadata": {},
   "outputs": [
    {
     "name": "stdout",
     "output_type": "stream",
     "text": [
      "<class 'int'>\n",
      "<class 'bool'>\n"
     ]
    }
   ],
   "source": [
    "x = 5\n",
    "print(type(x))\n",
    "\n",
    "x = True\n",
    "print(type(x))"
   ]
  },
  {
   "cell_type": "markdown",
   "id": "prepared-sunglasses",
   "metadata": {},
   "source": [
    "Booleans variables are the output of **variable comparison**."
   ]
  },
  {
   "cell_type": "code",
   "execution_count": 35,
   "id": "oriented-purpose",
   "metadata": {},
   "outputs": [
    {
     "name": "stdout",
     "output_type": "stream",
     "text": [
      "True\n"
     ]
    }
   ],
   "source": [
    "a = 10.5\n",
    "b = 4.0\n",
    "c = 4.0 \n",
    "\n",
    "print(b == c)\n",
    "\n",
    "# print(\"a > b\", \"is\", a > b)   # greater than\n",
    "# print(\"a < b\", \"is\", a < b)   # less than \n",
    "# print(\"a == b\", \"is\", a == b) # check for equality\n",
    "# print(\"a >= b\", \"is\", a >= b) # greater than or equal to\n",
    "# print(\"a <= b\", \"is\", a <= b) # less than or equal to"
   ]
  },
  {
   "cell_type": "markdown",
   "id": "reduced-genesis",
   "metadata": {},
   "source": [
    "**Multiple comparisons** are handy."
   ]
  },
  {
   "cell_type": "code",
   "execution_count": 44,
   "id": "express-corps",
   "metadata": {},
   "outputs": [],
   "source": [
    "a = True\n",
    "b = False"
   ]
  },
  {
   "cell_type": "code",
   "execution_count": 45,
   "id": "seasonal-transport",
   "metadata": {},
   "outputs": [
    {
     "name": "stdout",
     "output_type": "stream",
     "text": [
      "5\n"
     ]
    }
   ],
   "source": [
    "print(abc)"
   ]
  },
  {
   "cell_type": "code",
   "execution_count": 42,
   "id": "metallic-bouquet",
   "metadata": {},
   "outputs": [
    {
     "data": {
      "text/plain": [
       "True"
      ]
     },
     "execution_count": 42,
     "metadata": {},
     "output_type": "execute_result"
    }
   ],
   "source": [
    "a or b # this is true if either a or b is true"
   ]
  },
  {
   "cell_type": "markdown",
   "id": "decent-federal",
   "metadata": {},
   "source": [
    "## 4. Functions\n",
    "\n",
    "Functions take inputs and return outputs. We've already worked with a few functions so far. \n",
    "\n",
    "- `print()`\n",
    "- `np.log()`\n",
    "- `+`\n",
    "- `-`\n",
    "- `len()`\n",
    "\n",
    "We can write our own functions. \n",
    "\n",
    "Every function starts with `def` and ends with `return`."
   ]
  },
  {
   "cell_type": "code",
   "execution_count": 46,
   "id": "double-referral",
   "metadata": {},
   "outputs": [],
   "source": [
    "def add2(x):\n",
    "    '''This is a simple function that adds 2 to any input.'''\n",
    "    result = x + 2\n",
    "    return result"
   ]
  },
  {
   "cell_type": "code",
   "execution_count": 47,
   "id": "undefined-great",
   "metadata": {},
   "outputs": [
    {
     "data": {
      "text/plain": [
       "12"
      ]
     },
     "execution_count": 47,
     "metadata": {},
     "output_type": "execute_result"
    }
   ],
   "source": [
    "add2(10)\n",
    "\n",
    "# print('Add 2 to 5 = ', add2(5))"
   ]
  },
  {
   "cell_type": "markdown",
   "id": "desirable-enough",
   "metadata": {},
   "source": [
    "### Lists\n",
    "Lists are a collections of items. \n",
    "\n",
    "Each item can be of any type. "
   ]
  },
  {
   "cell_type": "code",
   "execution_count": 49,
   "id": "second-modem",
   "metadata": {},
   "outputs": [
    {
     "data": {
      "text/plain": [
       "[5, 'Alex', 6.3]"
      ]
     },
     "execution_count": 49,
     "metadata": {},
     "output_type": "execute_result"
    }
   ],
   "source": [
    "mylist = [5, \"Alex\", 6.3]\n",
    "mylist"
   ]
  },
  {
   "cell_type": "markdown",
   "id": "removable-gross",
   "metadata": {},
   "source": [
    "Access items in a list using brackets.\n",
    "\n",
    "This is called indexing.\n",
    "\n",
    "- Python starts counting at zero."
   ]
  },
  {
   "cell_type": "code",
   "execution_count": 50,
   "id": "agricultural-contamination",
   "metadata": {},
   "outputs": [
    {
     "data": {
      "text/plain": [
       "5"
      ]
     },
     "execution_count": 50,
     "metadata": {},
     "output_type": "execute_result"
    }
   ],
   "source": [
    "mylist[0] # first element"
   ]
  },
  {
   "cell_type": "code",
   "execution_count": 51,
   "id": "located-lotus",
   "metadata": {},
   "outputs": [
    {
     "name": "stdout",
     "output_type": "stream",
     "text": [
      "Alex\n",
      "6.3\n",
      "6.3\n"
     ]
    }
   ],
   "source": [
    "print(mylist[1]) # second element\n",
    "\n",
    "print(mylist[2]) # 3rd element\n",
    "\n",
    "print(mylist[-1]) # -1 means last element\n"
   ]
  },
  {
   "cell_type": "markdown",
   "id": "infrared-reproduction",
   "metadata": {},
   "source": [
    "### Quiz 4\n",
    "---\n",
    "1. Make a list, `list1` with the numbers 1, 4, 7, 10, and 200.\n",
    "2. Write a function which computes the mean of `list1`.\n",
    "    - Remember $mean = \\frac{sum}{num. elements}$\n",
    "3. Google the `numpy` function which computes the mean.\n",
    "4. Check the results of your function against the numpy function."
   ]
  },
  {
   "cell_type": "markdown",
   "id": "functioning-somerset",
   "metadata": {},
   "source": [
    "### Example answers 4"
   ]
  },
  {
   "cell_type": "code",
   "execution_count": 151,
   "id": "close-tackle",
   "metadata": {},
   "outputs": [],
   "source": [
    "list1 = [1, 4, 7, 10, 200]"
   ]
  },
  {
   "cell_type": "code",
   "execution_count": 152,
   "id": "senior-documentation",
   "metadata": {},
   "outputs": [],
   "source": [
    "def get_avg(inputlist):\n",
    "    \n",
    "    # Add all 5 numbers together\n",
    "    listsum = inputlist[0] + inputlist[1] + inputlist[2] + inputlist[3] + inputlist[4]\n",
    "          \n",
    "    # Divide by 5 to compute the average\n",
    "    avg = listsum / len(inputlist)\n",
    "    return avg\n",
    "    "
   ]
  },
  {
   "cell_type": "code",
   "execution_count": 153,
   "id": "clinical-feeding",
   "metadata": {},
   "outputs": [
    {
     "data": {
      "text/plain": [
       "44.4"
      ]
     },
     "execution_count": 153,
     "metadata": {},
     "output_type": "execute_result"
    }
   ],
   "source": [
    "get_avg(list1)"
   ]
  },
  {
   "cell_type": "code",
   "execution_count": 154,
   "id": "aquatic-january",
   "metadata": {},
   "outputs": [
    {
     "data": {
      "text/plain": [
       "44.4"
      ]
     },
     "execution_count": 154,
     "metadata": {},
     "output_type": "execute_result"
    }
   ],
   "source": [
    "np.mean(list1)"
   ]
  },
  {
   "cell_type": "markdown",
   "id": "further-allen",
   "metadata": {},
   "source": [
    "## 5. For Loops\n",
    "\n",
    "For loops loop over a list and do an operation for each element. "
   ]
  },
  {
   "cell_type": "code",
   "execution_count": 155,
   "id": "annual-degree",
   "metadata": {},
   "outputs": [
    {
     "name": "stdout",
     "output_type": "stream",
     "text": [
      "5\n",
      "Alex\n",
      "6.3\n"
     ]
    }
   ],
   "source": [
    "for item in mylist:\n",
    "    print(item)"
   ]
  },
  {
   "cell_type": "code",
   "execution_count": 24,
   "id": "standing-diana",
   "metadata": {},
   "outputs": [
    {
     "name": "stdout",
     "output_type": "stream",
     "text": [
      "ii squared =  0\n",
      "ii squared =  1\n",
      "ii squared =  4\n",
      "ii squared =  9\n",
      "ii squared =  16\n",
      "ii squared =  25\n",
      "ii squared =  36\n",
      "ii squared =  49\n",
      "ii squared =  64\n",
      "ii squared =  81\n"
     ]
    }
   ],
   "source": [
    "for ii in range(10):\n",
    "    # Range(10) returns a list of numbers 0-9\n",
    "    print('ii squared = ', ii ** 2)"
   ]
  },
  {
   "cell_type": "markdown",
   "id": "outer-gauge",
   "metadata": {},
   "source": [
    "### Quiz 5\n",
    "---\n",
    "1. Write a new function that will compute the mean of `list1` using a for loop.\n",
    "2. Check that we get the same answer as before. \n",
    "3. Now define a new list, `list2` $= [1000, 2000, 3000]$\n",
    "4. Use your new function to compute the average of `list2`.\n",
    "\n",
    "### Example answers 5"
   ]
  },
  {
   "cell_type": "code",
   "execution_count": 157,
   "id": "bright-morning",
   "metadata": {},
   "outputs": [],
   "source": [
    "list2 = [1000, 2000, 3000]"
   ]
  },
  {
   "cell_type": "code",
   "execution_count": 158,
   "id": "threaded-allah",
   "metadata": {},
   "outputs": [],
   "source": [
    "def get_avg_new(inputlist):\n",
    "    \n",
    "    tally = 0\n",
    "    \n",
    "    # Add the numbers together using a for-loop\n",
    "    for number in inputlist:\n",
    "        tally = tally + number\n",
    "                          \n",
    "    # Divide by the number of elements\n",
    "    avg = tally / len(inputlist)\n",
    "    return avg\n",
    "    "
   ]
  },
  {
   "cell_type": "code",
   "execution_count": 159,
   "id": "earned-intellectual",
   "metadata": {},
   "outputs": [
    {
     "data": {
      "text/plain": [
       "2000.0"
      ]
     },
     "execution_count": 159,
     "metadata": {},
     "output_type": "execute_result"
    }
   ],
   "source": [
    "get_avg_new(list2)"
   ]
  },
  {
   "cell_type": "code",
   "execution_count": null,
   "id": "social-niagara",
   "metadata": {},
   "outputs": [],
   "source": []
  },
  {
   "cell_type": "code",
   "execution_count": null,
   "id": "combined-reception",
   "metadata": {},
   "outputs": [],
   "source": []
  },
  {
   "cell_type": "code",
   "execution_count": null,
   "id": "respected-journey",
   "metadata": {},
   "outputs": [],
   "source": []
  }
 ],
 "metadata": {
  "kernelspec": {
   "display_name": "Python 3",
   "language": "python",
   "name": "python3"
  },
  "language_info": {
   "codemirror_mode": {
    "name": "ipython",
    "version": 3
   },
   "file_extension": ".py",
   "mimetype": "text/x-python",
   "name": "python",
   "nbconvert_exporter": "python",
   "pygments_lexer": "ipython3",
   "version": "3.8.2"
  }
 },
 "nbformat": 4,
 "nbformat_minor": 5
}
